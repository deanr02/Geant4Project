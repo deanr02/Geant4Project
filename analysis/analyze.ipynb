{
 "cells": [
  {
   "cell_type": "code",
   "execution_count": 5,
   "metadata": {},
   "outputs": [],
   "source": [
    "\n",
    "import matplotlib\n",
    "import numpy as np\n",
    "import scipy"
   ]
  },
  {
   "cell_type": "markdown",
   "metadata": {},
   "source": [
    "Get Histograms"
   ]
  },
  {
   "cell_type": "code",
   "execution_count": 6,
   "metadata": {},
   "outputs": [
    {
     "ename": "AttributeError",
     "evalue": "module 'pyroot' has no attribute 'TFile'",
     "output_type": "error",
     "traceback": [
      "\u001b[31m---------------------------------------------------------------------------\u001b[39m",
      "\u001b[31mAttributeError\u001b[39m                            Traceback (most recent call last)",
      "\u001b[36mCell\u001b[39m\u001b[36m \u001b[39m\u001b[32mIn[6]\u001b[39m\u001b[32m, line 20\u001b[39m\n\u001b[32m     18\u001b[39m \u001b[38;5;28;01mfor\u001b[39;00m t \u001b[38;5;129;01min\u001b[39;00m thicknesses:\n\u001b[32m     19\u001b[39m     \u001b[38;5;28;01mfor\u001b[39;00m e \u001b[38;5;129;01min\u001b[39;00m energies:\n\u001b[32m---> \u001b[39m\u001b[32m20\u001b[39m         \u001b[38;5;28;01mwith\u001b[39;00m \u001b[43mROOT\u001b[49m\u001b[43m.\u001b[49m\u001b[43mTFile\u001b[49m.Open(filename(r,t,e), \u001b[33m\"\u001b[39m\u001b[33mread\u001b[39m\u001b[33m\"\u001b[39m) \u001b[38;5;28;01mas\u001b[39;00m f:\n\u001b[32m     21\u001b[39m             E_Pb_h1[(r,t,e)] = f[\u001b[33m\"\u001b[39m\u001b[33mhistograms/E_Pb_h1\u001b[39m\u001b[33m\"\u001b[39m]\n\u001b[32m     22\u001b[39m             E_LAr_h1[(r,t,e)] = f[\u001b[33m\"\u001b[39m\u001b[33mhistograms/E_LAr_h1\u001b[39m\u001b[33m\"\u001b[39m]\n",
      "\u001b[31mAttributeError\u001b[39m: module 'pyroot' has no attribute 'TFile'"
     ]
    }
   ],
   "source": [
    "ratios = [0.05, 0.25, 0.5, 0.75, 0.95]\n",
    "thicknesses = [10,50,100,500]\n",
    "energies = [1,10,100,1000,10000]\n",
    "\n",
    "E_LAr_h1 = {}\n",
    "E_LAr_p1 = {}\n",
    "\n",
    "efficiency = {}\n",
    "profile = {}\n",
    "\n",
    "def filename(r, t, e):\n",
    "    return \"data/\" + str(r) + \"_\" + str(t) + \"/\" + str(e) + \"MeV.root\"\n",
    "\n",
    "for r in ratios:\n",
    "    for t in thicknesses:\n",
    "        for e in energies:\n",
    "            with ROOT.TFile.Open(filename(r,t,e), \"read\") as f:\n",
    "                E_LAr_h1[(r,t,e)] = f[\"histograms/E_LAr_h1\"]\n",
    "                E_LAr_p1[(r,t,e)] = f[\"histograms/E_LAr_p1\"]\n",
    "\n",
    "\n",
    "\n",
    "                efficiency[(r,t,e)] = [E_LAr_h1[(r,t,e)].GetMean(), E_LAr_h1[(r,t,e)].GetStdDev()]\n",
    "\n",
    "                nbins = E_LAr_p1[(r,t,e)].GetNbinsX()\n",
    "                profile_x = [E_LAr_p1[(r,t,e)].GetBinCenter(i) for i in range(1, nbins +1)]\n",
    "                profile_E = [E_LAr_p1[(r,t,e)].GetBinContent(i) for i in range(1, nbins +1)]\n",
    "                profile_dE = [E_LAr_p1[(r,t,e)].GetBinError(i) for i in range(1, nbins +1)]\n",
    "\n",
    "                profile[(r,t,e)] = [profile_x,profile_E,profile_dE]"
   ]
  },
  {
   "cell_type": "markdown",
   "metadata": {},
   "source": [
    "Efficiency Plot"
   ]
  },
  {
   "cell_type": "code",
   "execution_count": null,
   "metadata": {},
   "outputs": [],
   "source": [
    "efficiency = {}\n",
    "\n",
    "for r in ratios:\n",
    "    for t in thicknesses:\n",
    "        for e in energies:\n",
    "            efficiency[(r,t,e)]"
   ]
  },
  {
   "cell_type": "markdown",
   "metadata": {},
   "source": []
  }
 ],
 "metadata": {
  "kernelspec": {
   "display_name": ".venv",
   "language": "python",
   "name": "python3"
  },
  "language_info": {
   "codemirror_mode": {
    "name": "ipython",
    "version": 3
   },
   "file_extension": ".py",
   "mimetype": "text/x-python",
   "name": "python",
   "nbconvert_exporter": "python",
   "pygments_lexer": "ipython3",
   "version": "3.11.4"
  }
 },
 "nbformat": 4,
 "nbformat_minor": 2
}
